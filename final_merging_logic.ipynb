{
 "cells": [
  {
   "cell_type": "code",
   "execution_count": 1,
   "metadata": {},
   "outputs": [],
   "source": [
    "import geopandas as gpd\n",
    "import pandas as pd\n",
    "import numpy as np\n",
    "import os\n",
    "import shapely"
   ]
  },
  {
   "cell_type": "code",
   "execution_count": 2,
   "metadata": {},
   "outputs": [],
   "source": [
    "# swb_layer_path = os.path.join(\n",
    "#     os.environ['DATA'],\n",
    "#     'ponds_and_wells',\n",
    "#     'gobindpur_swb2.json'\n",
    "#     )\n",
    "\n",
    "# ponds_layer_path = os.path.join(\n",
    "#     os.environ['DATA'],\n",
    "#     'ponds_and_wells/output/17/gobindpur/gobindpur_COMBINED_GEOMETRY',\n",
    "#     'gobindpur_COMBINED_GEOMETRY.shp'\n",
    "#     )\n",
    "\n",
    "# mws_layer_path = os.path.join(\n",
    "#     os.environ['DATA'],\n",
    "#     'ponds_and_wells',\n",
    "#     'gobindpur_mws.json'\n",
    "#     )\n",
    "\n",
    "# admin_boundary_layer_path = os.path.join(\n",
    "#     os.environ['DATA'],\n",
    "#     'ponds_and_wells',\n",
    "#     'gobindpur_boundary.geojson'\n",
    "#     )\n",
    "\n",
    "#new files (apparently all outputs of this block were actually tehsil boundaries, so they were fixed to only be the block boundaries)\n",
    "swb_layer_path = os.path.join(\n",
    "    os.environ['DATA'],\n",
    "    'ponds_and_wells',\n",
    "    'gobindpur',\n",
    "    'swb.json'\n",
    "    )\n",
    "\n",
    "ponds_layer_path = os.path.join(\n",
    "    os.environ['DATA'],\n",
    "    'ponds_and_wells',\n",
    "    'gobindpur',\n",
    "    'gobindpur_ponds.geojson'\n",
    "    )\n",
    "\n",
    "mws_layer_path = os.path.join(\n",
    "    os.environ['DATA'],\n",
    "    'ponds_and_wells',\n",
    "    'gobindpur',\n",
    "    'mws.json'\n",
    "    )\n",
    "\n",
    "admin_boundary_layer_path = os.path.join(\n",
    "    os.environ['DATA'],\n",
    "    'ponds_and_wells',\n",
    "    'gobindpur',\n",
    "    'admin_boundary.json'\n",
    "    )\n",
    "\n"
   ]
  },
  {
   "cell_type": "code",
   "execution_count": 3,
   "metadata": {},
   "outputs": [],
   "source": [
    "ponds_gdf = gpd.read_file(ponds_layer_path)\n",
    "\n",
    "swb_gdf = gpd.read_file(swb_layer_path)\n",
    "\n",
    "mws_gdf = gpd.read_file(mws_layer_path)\n",
    "\n",
    "admin_boundary_gdf = gpd.read_file(admin_boundary_layer_path)"
   ]
  },
  {
   "cell_type": "code",
   "execution_count": 4,
   "metadata": {},
   "outputs": [],
   "source": [
    "def split_multipolygon_into_individual_polygons(data_gdf):\n",
    "    data_gdf = data_gdf.explode()\n",
    "    return data_gdf\n",
    "\n",
    "def clip_to_boundary(data_gdf,boundary_gdf):\n",
    "    data_gdf = data_gdf.sjoin(boundary_gdf[['geometry']],how = 'inner')\n",
    "    data_gdf.drop(['index_right'],axis=1,inplace=True)\n",
    "    return data_gdf\n",
    "\n",
    "def change_crs(data_gdf,crs):\n",
    "    data_gdf.to_crs(crs)\n",
    "    return data_gdf\n",
    "\n",
    "def generate_pond_id(data_gdf):\n",
    "    data_gdf.drop(['FID'],axis=1,inplace=True,errors='ignore') #drop if the column exists\n",
    "    data_gdf['pond_id'] = range(data_gdf.shape[0])\n",
    "    return data_gdf\n",
    "\n",
    "def dissolve_boundary(data_gdf):\n",
    "    data_gdf = data_gdf.dissolve()\n",
    "    return data_gdf\n",
    "\n",
    "def uid_for_ponds(mws_id_list, pond_id):\n",
    "    # print(row)\n",
    "    row_uid = [str(x) for x in mws_id_list]\n",
    "    row_uid = \"_\".join(row_uid)\n",
    "    row_uid = \"_\".join([row_uid, str(pond_id)])\n",
    "    return row_uid"
   ]
  },
  {
   "cell_type": "code",
   "execution_count": null,
   "metadata": {},
   "outputs": [],
   "source": [
    "if (ponds_gdf.shape[0] == 1):\n",
    "    ponds_gdf = split_multipolygon_into_individual_polygons(ponds_gdf)\n",
    "ponds_gdf = generate_pond_id(ponds_gdf)"
   ]
  },
  {
   "cell_type": "code",
   "execution_count": 20,
   "metadata": {},
   "outputs": [
    {
     "data": {
      "text/html": [
       "<div>\n",
       "<style scoped>\n",
       "    .dataframe tbody tr th:only-of-type {\n",
       "        vertical-align: middle;\n",
       "    }\n",
       "\n",
       "    .dataframe tbody tr th {\n",
       "        vertical-align: top;\n",
       "    }\n",
       "\n",
       "    .dataframe thead th {\n",
       "        text-align: right;\n",
       "    }\n",
       "</style>\n",
       "<table border=\"1\" class=\"dataframe\">\n",
       "  <thead>\n",
       "    <tr style=\"text-align: right;\">\n",
       "      <th></th>\n",
       "      <th>id</th>\n",
       "      <th>geometry</th>\n",
       "    </tr>\n",
       "  </thead>\n",
       "  <tbody>\n",
       "    <tr>\n",
       "      <th>0</th>\n",
       "      <td>00000000000000000000</td>\n",
       "      <td>POLYGON ((86.20013 22.65664, 86.20013 22.65664...</td>\n",
       "    </tr>\n",
       "    <tr>\n",
       "      <th>1</th>\n",
       "      <td>00000000000000000001</td>\n",
       "      <td>POLYGON ((86.19875 22.65755, 86.19876 22.65755...</td>\n",
       "    </tr>\n",
       "    <tr>\n",
       "      <th>2</th>\n",
       "      <td>00000000000000000002</td>\n",
       "      <td>POLYGON ((86.19759 22.65508, 86.19759 22.65507...</td>\n",
       "    </tr>\n",
       "    <tr>\n",
       "      <th>3</th>\n",
       "      <td>00000000000000000003</td>\n",
       "      <td>POLYGON ((86.19678 22.63558, 86.19678 22.63558...</td>\n",
       "    </tr>\n",
       "    <tr>\n",
       "      <th>4</th>\n",
       "      <td>00000000000000000004</td>\n",
       "      <td>POLYGON ((86.1951 22.63293, 86.1951 22.63291, ...</td>\n",
       "    </tr>\n",
       "    <tr>\n",
       "      <th>...</th>\n",
       "      <td>...</td>\n",
       "      <td>...</td>\n",
       "    </tr>\n",
       "    <tr>\n",
       "      <th>694</th>\n",
       "      <td>000000000000000002b6</td>\n",
       "      <td>POLYGON ((85.84891 22.52863, 85.84891 22.52863...</td>\n",
       "    </tr>\n",
       "    <tr>\n",
       "      <th>695</th>\n",
       "      <td>000000000000000002b7</td>\n",
       "      <td>POLYGON ((85.84959 22.5276, 85.84959 22.52759,...</td>\n",
       "    </tr>\n",
       "    <tr>\n",
       "      <th>696</th>\n",
       "      <td>000000000000000002b8</td>\n",
       "      <td>POLYGON ((85.84603 22.51937, 85.84604 22.51937...</td>\n",
       "    </tr>\n",
       "    <tr>\n",
       "      <th>697</th>\n",
       "      <td>000000000000000002b9</td>\n",
       "      <td>POLYGON ((85.83354 22.52361, 85.83356 22.5236,...</td>\n",
       "    </tr>\n",
       "    <tr>\n",
       "      <th>698</th>\n",
       "      <td>000000000000000002ba</td>\n",
       "      <td>POLYGON ((85.83234 22.52018, 85.83235 22.52018...</td>\n",
       "    </tr>\n",
       "  </tbody>\n",
       "</table>\n",
       "<p>699 rows × 2 columns</p>\n",
       "</div>"
      ],
      "text/plain": [
       "                       id                                           geometry\n",
       "0    00000000000000000000  POLYGON ((86.20013 22.65664, 86.20013 22.65664...\n",
       "1    00000000000000000001  POLYGON ((86.19875 22.65755, 86.19876 22.65755...\n",
       "2    00000000000000000002  POLYGON ((86.19759 22.65508, 86.19759 22.65507...\n",
       "3    00000000000000000003  POLYGON ((86.19678 22.63558, 86.19678 22.63558...\n",
       "4    00000000000000000004  POLYGON ((86.1951 22.63293, 86.1951 22.63291, ...\n",
       "..                    ...                                                ...\n",
       "694  000000000000000002b6  POLYGON ((85.84891 22.52863, 85.84891 22.52863...\n",
       "695  000000000000000002b7  POLYGON ((85.84959 22.5276, 85.84959 22.52759,...\n",
       "696  000000000000000002b8  POLYGON ((85.84603 22.51937, 85.84604 22.51937...\n",
       "697  000000000000000002b9  POLYGON ((85.83354 22.52361, 85.83356 22.5236,...\n",
       "698  000000000000000002ba  POLYGON ((85.83234 22.52018, 85.83235 22.52018...\n",
       "\n",
       "[699 rows x 2 columns]"
      ]
     },
     "execution_count": 20,
     "metadata": {},
     "output_type": "execute_result"
    }
   ],
   "source": [
    "ponds_gdf"
   ]
  },
  {
   "cell_type": "code",
   "execution_count": 6,
   "metadata": {},
   "outputs": [],
   "source": [
    "# ponds_gdf.head()"
   ]
  },
  {
   "cell_type": "code",
   "execution_count": 7,
   "metadata": {},
   "outputs": [],
   "source": [
    "if (admin_boundary_gdf.shape[0] > 1):\n",
    "    admin_boundary_gdf = dissolve_boundary(admin_boundary_gdf)"
   ]
  },
  {
   "cell_type": "code",
   "execution_count": 8,
   "metadata": {},
   "outputs": [],
   "source": [
    "mws_outer_boundary_gdf = dissolve_boundary(mws_gdf)"
   ]
  },
  {
   "cell_type": "code",
   "execution_count": 9,
   "metadata": {},
   "outputs": [],
   "source": [
    "# admin_boundary_gdf"
   ]
  },
  {
   "cell_type": "code",
   "execution_count": 10,
   "metadata": {},
   "outputs": [],
   "source": [
    "ponds_gdf = clip_to_boundary(\n",
    "    data_gdf=ponds_gdf,\n",
    "    boundary_gdf= mws_outer_boundary_gdf #admin_boundary_gdf\n",
    ")"
   ]
  },
  {
   "cell_type": "code",
   "execution_count": 11,
   "metadata": {},
   "outputs": [],
   "source": [
    "# ponds_gdf.shape"
   ]
  },
  {
   "cell_type": "code",
   "execution_count": 12,
   "metadata": {},
   "outputs": [],
   "source": [
    "swb_gdf = clip_to_boundary(\n",
    "    data_gdf=swb_gdf,\n",
    "    boundary_gdf= mws_outer_boundary_gdf #admin_boundary_gdf\n",
    ")"
   ]
  },
  {
   "cell_type": "code",
   "execution_count": 13,
   "metadata": {},
   "outputs": [
    {
     "data": {
      "text/plain": [
       "(2306, 36)"
      ]
     },
     "execution_count": 13,
     "metadata": {},
     "output_type": "execute_result"
    }
   ],
   "source": [
    "swb_gdf.shape"
   ]
  },
  {
   "cell_type": "code",
   "execution_count": 14,
   "metadata": {},
   "outputs": [],
   "source": [
    "# swb_gdf = change_crs(\n",
    "#     data_gdf=swb_gdf,\n",
    "#     crs='crs:7755'\n",
    "# )\n",
    "\n",
    "# ponds_gdf = change_crs(\n",
    "#     data_gdf=ponds_gdf,\n",
    "#     crs='crs:7755'\n",
    "# )"
   ]
  },
  {
   "cell_type": "markdown",
   "metadata": {},
   "source": [
    "### Create merged dataframe"
   ]
  },
  {
   "cell_type": "markdown",
   "metadata": {},
   "source": [
    "1. Add standalone swb"
   ]
  },
  {
   "cell_type": "code",
   "execution_count": 15,
   "metadata": {},
   "outputs": [],
   "source": [
    "intersecting_UIDs = swb_gdf.sjoin(ponds_gdf)['UID'].tolist()"
   ]
  },
  {
   "cell_type": "code",
   "execution_count": 16,
   "metadata": {},
   "outputs": [],
   "source": [
    "standalone_swb_gdf = swb_gdf[~swb_gdf['UID'].isin(intersecting_UIDs)]"
   ]
  },
  {
   "cell_type": "code",
   "execution_count": 17,
   "metadata": {},
   "outputs": [
    {
     "data": {
      "text/plain": [
       "(1774, 36)"
      ]
     },
     "execution_count": 17,
     "metadata": {},
     "output_type": "execute_result"
    }
   ],
   "source": [
    "standalone_swb_gdf.shape"
   ]
  },
  {
   "cell_type": "code",
   "execution_count": 18,
   "metadata": {},
   "outputs": [],
   "source": [
    "merged_gdf = standalone_swb_gdf"
   ]
  },
  {
   "cell_type": "markdown",
   "metadata": {},
   "source": [
    "2. Add standalone ponds"
   ]
  },
  {
   "cell_type": "code",
   "execution_count": 19,
   "metadata": {},
   "outputs": [
    {
     "ename": "KeyError",
     "evalue": "'pond_id'",
     "output_type": "error",
     "traceback": [
      "\u001b[31m---------------------------------------------------------------------------\u001b[39m",
      "\u001b[31mKeyError\u001b[39m                                  Traceback (most recent call last)",
      "\u001b[36mFile \u001b[39m\u001b[32m~/miniconda3/envs/.ponds_n_wells/lib/python3.12/site-packages/pandas/core/indexes/base.py:3805\u001b[39m, in \u001b[36mIndex.get_loc\u001b[39m\u001b[34m(self, key)\u001b[39m\n\u001b[32m   3804\u001b[39m \u001b[38;5;28;01mtry\u001b[39;00m:\n\u001b[32m-> \u001b[39m\u001b[32m3805\u001b[39m     \u001b[38;5;28;01mreturn\u001b[39;00m \u001b[38;5;28;43mself\u001b[39;49m\u001b[43m.\u001b[49m\u001b[43m_engine\u001b[49m\u001b[43m.\u001b[49m\u001b[43mget_loc\u001b[49m\u001b[43m(\u001b[49m\u001b[43mcasted_key\u001b[49m\u001b[43m)\u001b[49m\n\u001b[32m   3806\u001b[39m \u001b[38;5;28;01mexcept\u001b[39;00m \u001b[38;5;167;01mKeyError\u001b[39;00m \u001b[38;5;28;01mas\u001b[39;00m err:\n",
      "\u001b[36mFile \u001b[39m\u001b[32mindex.pyx:167\u001b[39m, in \u001b[36mpandas._libs.index.IndexEngine.get_loc\u001b[39m\u001b[34m()\u001b[39m\n",
      "\u001b[36mFile \u001b[39m\u001b[32mindex.pyx:196\u001b[39m, in \u001b[36mpandas._libs.index.IndexEngine.get_loc\u001b[39m\u001b[34m()\u001b[39m\n",
      "\u001b[36mFile \u001b[39m\u001b[32mpandas/_libs/hashtable_class_helper.pxi:7081\u001b[39m, in \u001b[36mpandas._libs.hashtable.PyObjectHashTable.get_item\u001b[39m\u001b[34m()\u001b[39m\n",
      "\u001b[36mFile \u001b[39m\u001b[32mpandas/_libs/hashtable_class_helper.pxi:7089\u001b[39m, in \u001b[36mpandas._libs.hashtable.PyObjectHashTable.get_item\u001b[39m\u001b[34m()\u001b[39m\n",
      "\u001b[31mKeyError\u001b[39m: 'pond_id'",
      "\nThe above exception was the direct cause of the following exception:\n",
      "\u001b[31mKeyError\u001b[39m                                  Traceback (most recent call last)",
      "\u001b[36mCell\u001b[39m\u001b[36m \u001b[39m\u001b[32mIn[19]\u001b[39m\u001b[32m, line 1\u001b[39m\n\u001b[32m----> \u001b[39m\u001b[32m1\u001b[39m intersecting_pond_ids = \u001b[43mponds_gdf\u001b[49m\u001b[43m.\u001b[49m\u001b[43msjoin\u001b[49m\u001b[43m(\u001b[49m\u001b[43mswb_gdf\u001b[49m\u001b[43m)\u001b[49m\u001b[43m[\u001b[49m\u001b[33;43m'\u001b[39;49m\u001b[33;43mpond_id\u001b[39;49m\u001b[33;43m'\u001b[39;49m\u001b[43m]\u001b[49m.tolist()\n",
      "\u001b[36mFile \u001b[39m\u001b[32m~/miniconda3/envs/.ponds_n_wells/lib/python3.12/site-packages/geopandas/geodataframe.py:1750\u001b[39m, in \u001b[36mGeoDataFrame.__getitem__\u001b[39m\u001b[34m(self, key)\u001b[39m\n\u001b[32m   1744\u001b[39m \u001b[38;5;28;01mdef\u001b[39;00m\u001b[38;5;250m \u001b[39m\u001b[34m__getitem__\u001b[39m(\u001b[38;5;28mself\u001b[39m, key):\n\u001b[32m   1745\u001b[39m \u001b[38;5;250m    \u001b[39m\u001b[33;03m\"\"\"\u001b[39;00m\n\u001b[32m   1746\u001b[39m \u001b[33;03m    If the result is a column containing only 'geometry', return a\u001b[39;00m\n\u001b[32m   1747\u001b[39m \u001b[33;03m    GeoSeries. If it's a DataFrame with any columns of GeometryDtype,\u001b[39;00m\n\u001b[32m   1748\u001b[39m \u001b[33;03m    return a GeoDataFrame.\u001b[39;00m\n\u001b[32m   1749\u001b[39m \u001b[33;03m    \"\"\"\u001b[39;00m\n\u001b[32m-> \u001b[39m\u001b[32m1750\u001b[39m     result = \u001b[38;5;28;43msuper\u001b[39;49m\u001b[43m(\u001b[49m\u001b[43m)\u001b[49m\u001b[43m.\u001b[49m\u001b[34;43m__getitem__\u001b[39;49m\u001b[43m(\u001b[49m\u001b[43mkey\u001b[49m\u001b[43m)\u001b[49m\n\u001b[32m   1751\u001b[39m     \u001b[38;5;66;03m# Custom logic to avoid waiting for pandas GH51895\u001b[39;00m\n\u001b[32m   1752\u001b[39m     \u001b[38;5;66;03m# result is not geometry dtype for multi-indexes\u001b[39;00m\n\u001b[32m   1753\u001b[39m     \u001b[38;5;28;01mif\u001b[39;00m (\n\u001b[32m   1754\u001b[39m         pd.api.types.is_scalar(key)\n\u001b[32m   1755\u001b[39m         \u001b[38;5;129;01mand\u001b[39;00m key == \u001b[33m\"\u001b[39m\u001b[33m\"\u001b[39m\n\u001b[32m   (...)\u001b[39m\u001b[32m   1758\u001b[39m         \u001b[38;5;129;01mand\u001b[39;00m \u001b[38;5;129;01mnot\u001b[39;00m is_geometry_type(result)\n\u001b[32m   1759\u001b[39m     ):\n",
      "\u001b[36mFile \u001b[39m\u001b[32m~/miniconda3/envs/.ponds_n_wells/lib/python3.12/site-packages/pandas/core/frame.py:4102\u001b[39m, in \u001b[36mDataFrame.__getitem__\u001b[39m\u001b[34m(self, key)\u001b[39m\n\u001b[32m   4100\u001b[39m \u001b[38;5;28;01mif\u001b[39;00m \u001b[38;5;28mself\u001b[39m.columns.nlevels > \u001b[32m1\u001b[39m:\n\u001b[32m   4101\u001b[39m     \u001b[38;5;28;01mreturn\u001b[39;00m \u001b[38;5;28mself\u001b[39m._getitem_multilevel(key)\n\u001b[32m-> \u001b[39m\u001b[32m4102\u001b[39m indexer = \u001b[38;5;28;43mself\u001b[39;49m\u001b[43m.\u001b[49m\u001b[43mcolumns\u001b[49m\u001b[43m.\u001b[49m\u001b[43mget_loc\u001b[49m\u001b[43m(\u001b[49m\u001b[43mkey\u001b[49m\u001b[43m)\u001b[49m\n\u001b[32m   4103\u001b[39m \u001b[38;5;28;01mif\u001b[39;00m is_integer(indexer):\n\u001b[32m   4104\u001b[39m     indexer = [indexer]\n",
      "\u001b[36mFile \u001b[39m\u001b[32m~/miniconda3/envs/.ponds_n_wells/lib/python3.12/site-packages/pandas/core/indexes/base.py:3812\u001b[39m, in \u001b[36mIndex.get_loc\u001b[39m\u001b[34m(self, key)\u001b[39m\n\u001b[32m   3807\u001b[39m     \u001b[38;5;28;01mif\u001b[39;00m \u001b[38;5;28misinstance\u001b[39m(casted_key, \u001b[38;5;28mslice\u001b[39m) \u001b[38;5;129;01mor\u001b[39;00m (\n\u001b[32m   3808\u001b[39m         \u001b[38;5;28misinstance\u001b[39m(casted_key, abc.Iterable)\n\u001b[32m   3809\u001b[39m         \u001b[38;5;129;01mand\u001b[39;00m \u001b[38;5;28many\u001b[39m(\u001b[38;5;28misinstance\u001b[39m(x, \u001b[38;5;28mslice\u001b[39m) \u001b[38;5;28;01mfor\u001b[39;00m x \u001b[38;5;129;01min\u001b[39;00m casted_key)\n\u001b[32m   3810\u001b[39m     ):\n\u001b[32m   3811\u001b[39m         \u001b[38;5;28;01mraise\u001b[39;00m InvalidIndexError(key)\n\u001b[32m-> \u001b[39m\u001b[32m3812\u001b[39m     \u001b[38;5;28;01mraise\u001b[39;00m \u001b[38;5;167;01mKeyError\u001b[39;00m(key) \u001b[38;5;28;01mfrom\u001b[39;00m\u001b[38;5;250m \u001b[39m\u001b[34;01merr\u001b[39;00m\n\u001b[32m   3813\u001b[39m \u001b[38;5;28;01mexcept\u001b[39;00m \u001b[38;5;167;01mTypeError\u001b[39;00m:\n\u001b[32m   3814\u001b[39m     \u001b[38;5;66;03m# If we have a listlike key, _check_indexing_error will raise\u001b[39;00m\n\u001b[32m   3815\u001b[39m     \u001b[38;5;66;03m#  InvalidIndexError. Otherwise we fall through and re-raise\u001b[39;00m\n\u001b[32m   3816\u001b[39m     \u001b[38;5;66;03m#  the TypeError.\u001b[39;00m\n\u001b[32m   3817\u001b[39m     \u001b[38;5;28mself\u001b[39m._check_indexing_error(key)\n",
      "\u001b[31mKeyError\u001b[39m: 'pond_id'"
     ]
    }
   ],
   "source": [
    "intersecting_pond_ids = ponds_gdf.sjoin(swb_gdf)['pond_id'].tolist()"
   ]
  },
  {
   "cell_type": "code",
   "execution_count": null,
   "metadata": {},
   "outputs": [],
   "source": [
    "standalone_ponds_gdf = ponds_gdf[~ponds_gdf['pond_id'].isin(intersecting_pond_ids)]"
   ]
  },
  {
   "cell_type": "markdown",
   "metadata": {},
   "source": [
    " Add UID column to standalone ponds"
   ]
  },
  {
   "cell_type": "code",
   "execution_count": null,
   "metadata": {},
   "outputs": [],
   "source": [
    "mws_gdf.rename(columns={\"uid\": \"MWS_UID\"}, inplace=True)\n",
    "mws_uid_ponds_df = standalone_ponds_gdf.sjoin(\n",
    "    mws_gdf[[\"MWS_UID\", \"geometry\"]], how=\"left\"\n",
    ")"
   ]
  },
  {
   "cell_type": "code",
   "execution_count": null,
   "metadata": {},
   "outputs": [],
   "source": [
    "# mws_uid_ponds_df"
   ]
  },
  {
   "cell_type": "code",
   "execution_count": null,
   "metadata": {},
   "outputs": [],
   "source": [
    "mws_uid_ponds_df.drop(\"index_right\", inplace=True, axis=1)\n",
    "pond_mws_intersections_df = (\n",
    "    mws_uid_ponds_df.groupby([\"pond_id\"])[\"MWS_UID\"].unique().reset_index()\n",
    ")\n",
    "pond_mws_intersections_df[\"UID\"] = pond_mws_intersections_df.apply(\n",
    "    lambda row: uid_for_ponds(row.MWS_UID, row.pond_id), axis=1\n",
    ")\n",
    "standalone_ponds_gdf = standalone_ponds_gdf.merge(\n",
    "    pond_mws_intersections_df[[\"pond_id\", \"UID\"]]\n",
    ")"
   ]
  },
  {
   "cell_type": "code",
   "execution_count": null,
   "metadata": {},
   "outputs": [],
   "source": [
    "# standalone_ponds_gdf.shape"
   ]
  },
  {
   "cell_type": "code",
   "execution_count": null,
   "metadata": {},
   "outputs": [],
   "source": [
    "merged_gdf = pd.concat([merged_gdf,\n",
    "                        standalone_ponds_gdf])"
   ]
  },
  {
   "cell_type": "code",
   "execution_count": null,
   "metadata": {},
   "outputs": [],
   "source": [
    "merged_gdf.shape"
   ]
  },
  {
   "attachments": {
    "image.png": {
     "image/png": "[encoded data removed]"
    }
   },
   "cell_type": "markdown",
   "metadata": {},
   "source": [
    "#### Intersection scenarios\n",
    "\n",
    "![image.png](attachment:image.png)"
   ]
  },
  {
   "cell_type": "code",
   "execution_count": null,
   "metadata": {},
   "outputs": [],
   "source": [
    "intersections_gdf = swb_gdf.sjoin(ponds_gdf)"
   ]
  },
  {
   "cell_type": "code",
   "execution_count": null,
   "metadata": {},
   "outputs": [],
   "source": [
    "# ponds_gdf"
   ]
  },
  {
   "cell_type": "code",
   "execution_count": null,
   "metadata": {},
   "outputs": [],
   "source": [
    "intersections_gdf.shape"
   ]
  },
  {
   "cell_type": "code",
   "execution_count": null,
   "metadata": {},
   "outputs": [],
   "source": [
    "# ponds_gdf"
   ]
  },
  {
   "cell_type": "code",
   "execution_count": null,
   "metadata": {},
   "outputs": [],
   "source": [
    "swb_intersections_df = intersections_gdf.groupby(['UID'])['pond_id'].unique().reset_index()"
   ]
  },
  {
   "cell_type": "code",
   "execution_count": null,
   "metadata": {},
   "outputs": [],
   "source": [
    "pond_intersections_df = intersections_gdf.groupby(['pond_id'])['UID'].unique().reset_index()"
   ]
  },
  {
   "cell_type": "code",
   "execution_count": null,
   "metadata": {},
   "outputs": [],
   "source": [
    "merged_gdf.shape"
   ]
  },
  {
   "cell_type": "code",
   "execution_count": null,
   "metadata": {},
   "outputs": [],
   "source": [
    "single_intersection_uids = [row['UID'] for ind,row in swb_intersections_df.iterrows() if len(row['pond_id']) == 1]"
   ]
  },
  {
   "cell_type": "code",
   "execution_count": null,
   "metadata": {},
   "outputs": [],
   "source": [
    "len(single_intersection_uids)"
   ]
  },
  {
   "cell_type": "code",
   "execution_count": null,
   "metadata": {},
   "outputs": [],
   "source": [
    "# single_intersection_uids"
   ]
  },
  {
   "cell_type": "code",
   "execution_count": null,
   "metadata": {},
   "outputs": [],
   "source": [
    "# pond_intersections_df"
   ]
  },
  {
   "cell_type": "code",
   "execution_count": null,
   "metadata": {},
   "outputs": [],
   "source": [
    "case_1_swb_ids = []\n",
    "for x in single_intersection_uids:\n",
    "    for y in pond_intersections_df['UID']:\n",
    "        if (x in y):\n",
    "            if (len(y) == 1):\n",
    "                case_1_swb_ids.append(x)"
   ]
  },
  {
   "cell_type": "code",
   "execution_count": null,
   "metadata": {},
   "outputs": [],
   "source": [
    "len(case_1_swb_ids)"
   ]
  },
  {
   "cell_type": "code",
   "execution_count": null,
   "metadata": {},
   "outputs": [],
   "source": [
    "# ponds_gdf"
   ]
  },
  {
   "cell_type": "code",
   "execution_count": null,
   "metadata": {},
   "outputs": [],
   "source": [
    "case1_gdf = swb_gdf[swb_gdf['UID'].isin(case_1_swb_ids)].sjoin(\n",
    "    ponds_gdf,\n",
    "    how='left'\n",
    ")"
   ]
  },
  {
   "cell_type": "code",
   "execution_count": null,
   "metadata": {},
   "outputs": [],
   "source": [
    "case1_gdf.drop(['index_right'],axis=1,inplace=True)"
   ]
  },
  {
   "cell_type": "code",
   "execution_count": null,
   "metadata": {},
   "outputs": [],
   "source": [
    "for index,row in case1_gdf.iterrows():\n",
    "    case1_gdf.loc[index,'geometry'] = shapely.ops.unary_union(\n",
    "        [\n",
    "            row['geometry'],\n",
    "            ponds_gdf[ponds_gdf['pond_id'] == row['pond_id']]['geometry'].iloc[0]\n",
    "        ]\n",
    "    ) #new find: without the .loc it wont update the original value of the row geometries. like row['geometry] = unary_union(row['geometry'],pond['geometry']) didnt update the value\n"
   ]
  },
  {
   "cell_type": "code",
   "execution_count": null,
   "metadata": {},
   "outputs": [],
   "source": [
    "merged_gdf = \\\n",
    "    pd.concat(\n",
    "        [\n",
    "            merged_gdf,\n",
    "            case1_gdf\n",
    "        ]\n",
    ")"
   ]
  },
  {
   "cell_type": "code",
   "execution_count": null,
   "metadata": {},
   "outputs": [],
   "source": [
    "merged_gdf.shape"
   ]
  },
  {
   "cell_type": "markdown",
   "metadata": {},
   "source": [
    "Case 2: Cases of ponds intersecting with more than 1 SWBs, and SWBs intersecting with only 1 pond\n",
    "- In these cases we currently dont merge the boundary of the intersecting pond and swbs, but just tag the pond which intersects with an SWB, and have 1 row per SWB. "
   ]
  },
  {
   "cell_type": "code",
   "execution_count": null,
   "metadata": {},
   "outputs": [],
   "source": [
    "# single_intersection_pond_ids = [row['pond_id'] for ind,row in pond_intersections_df.iterrows() if len(row['UID']) == 1]\n",
    "# #ponds that intersect with only 1 swb\n",
    "\n",
    "# multi_intersection_pond_ids = [row['pond_id'] for ind,row in pond_intersections_df.iterrows() if len(row['UID']) > 1]\n",
    "# #ponds that intersect with only 1 swb"
   ]
  },
  {
   "cell_type": "code",
   "execution_count": null,
   "metadata": {},
   "outputs": [],
   "source": [
    "# print(len(single_intersection_pond_ids))\n",
    "# print(len(multi_intersection_pond_ids))"
   ]
  },
  {
   "cell_type": "code",
   "execution_count": null,
   "metadata": {},
   "outputs": [],
   "source": [
    "# pond_intersections_df"
   ]
  },
  {
   "cell_type": "code",
   "execution_count": null,
   "metadata": {},
   "outputs": [],
   "source": [
    "# swb_intersections_df"
   ]
  },
  {
   "cell_type": "code",
   "execution_count": null,
   "metadata": {},
   "outputs": [],
   "source": [
    "case2_swb_ids = []\n",
    "for x in single_intersection_uids:\n",
    "    for y in pond_intersections_df['UID']:\n",
    "        if (x in y):\n",
    "            if (len(y) > 1):\n",
    "                case2_swb_ids.append(x)"
   ]
  },
  {
   "cell_type": "code",
   "execution_count": null,
   "metadata": {},
   "outputs": [],
   "source": [
    "len(case2_swb_ids)"
   ]
  },
  {
   "cell_type": "code",
   "execution_count": null,
   "metadata": {},
   "outputs": [],
   "source": [
    "case2_gdf = swb_gdf[swb_gdf['UID'].isin(case2_swb_ids)].sjoin(\n",
    "    ponds_gdf,\n",
    "    how='left'\n",
    ")"
   ]
  },
  {
   "cell_type": "code",
   "execution_count": null,
   "metadata": {},
   "outputs": [],
   "source": [
    "# case2_gdf.head()"
   ]
  },
  {
   "cell_type": "code",
   "execution_count": null,
   "metadata": {},
   "outputs": [],
   "source": [
    "case2_gdf.drop(['index_right'],axis=1,inplace=True)"
   ]
  },
  {
   "cell_type": "code",
   "execution_count": null,
   "metadata": {},
   "outputs": [],
   "source": [
    "case2_gdf.shape"
   ]
  },
  {
   "cell_type": "code",
   "execution_count": null,
   "metadata": {},
   "outputs": [],
   "source": [
    "merged_gdf = \\\n",
    "    pd.concat(\n",
    "        [\n",
    "            merged_gdf,\n",
    "            case2_gdf\n",
    "        ]\n",
    ")"
   ]
  },
  {
   "cell_type": "code",
   "execution_count": null,
   "metadata": {},
   "outputs": [],
   "source": [
    "merged_gdf.shape"
   ]
  },
  {
   "cell_type": "markdown",
   "metadata": {},
   "source": [
    "Case 3: Cases of SWB intersecting with more than 1 ponds, and the corresponding ponds intersecting with only 1 SWB  \n",
    "Case 4: Cases of SWB intersecting with more than 1 ponds, and the corresponding ponds intersecting with more than 1 SWB  \n",
    "\n",
    "It makes sense to combine these cases wrt the dataframe"
   ]
  },
  {
   "cell_type": "code",
   "execution_count": null,
   "metadata": {},
   "outputs": [],
   "source": [
    "multi_intersection_uids = [row['UID'] for ind,row in swb_intersections_df.iterrows() if len(row['pond_id']) > 1]"
   ]
  },
  {
   "cell_type": "code",
   "execution_count": null,
   "metadata": {},
   "outputs": [],
   "source": [
    "multi_intersection_uids"
   ]
  },
  {
   "cell_type": "code",
   "execution_count": null,
   "metadata": {},
   "outputs": [],
   "source": [
    "case3_4_swb_ids = []\n",
    "case3_4_pond_ids = []\n",
    "for x in multi_intersection_uids:\n",
    "    for ind,row in pond_intersections_df.iterrows():\n",
    "        if (x in row['UID']):\n",
    "            if (len(row['UID']) >= 1):\n",
    "                # print(row['pond_id'])\n",
    "                case3_4_swb_ids.append(x)\n",
    "                case3_4_pond_ids.append(row['pond_id'])"
   ]
  },
  {
   "cell_type": "code",
   "execution_count": null,
   "metadata": {},
   "outputs": [],
   "source": [
    "len(case3_4_swb_ids) #again these are intersections, not unique swb ids"
   ]
  },
  {
   "cell_type": "code",
   "execution_count": null,
   "metadata": {},
   "outputs": [],
   "source": [
    "case3_4_gdf = swb_gdf[swb_gdf['UID'].isin(case3_4_swb_ids)].sjoin(\n",
    "    ponds_gdf[ponds_gdf['pond_id'].isin(case3_4_pond_ids)],\n",
    "    how='left'\n",
    ")"
   ]
  },
  {
   "attachments": {
    "image.png": {
     "image/png": "[encoded data removed]"
    }
   },
   "cell_type": "markdown",
   "metadata": {},
   "source": [
    "Learning:\n",
    "* Apparently list/set or any multiple values is not a good idea to assign to a cell in pandas.  \n",
    "\n",
    "- https://stackoverflow.com/questions/53116286/how-to-assign-an-entire-list-to-each-row-of-a-pandas-dataframe\n",
    "- https://stackoverflow.com/questions/52552198/how-to-set-the-value-of-a-pandas-column-as-list/52563718#52563718\n",
    "\n",
    "\n",
    "Therefore, in cases where a single SWB intersects with multiple ponds, we go with creating multiple rows\n",
    "![image.png](attachment:image.png)"
   ]
  },
  {
   "cell_type": "code",
   "execution_count": null,
   "metadata": {},
   "outputs": [],
   "source": [
    "swb_ponds_case3_4 = case3_4_gdf.groupby(['UID'])['pond_id'].agg(set).reset_index()\n",
    "swb_ponds_case3_4"
   ]
  },
  {
   "cell_type": "code",
   "execution_count": null,
   "metadata": {},
   "outputs": [],
   "source": [
    "swb_ponds_case3_4['pond_id'] = swb_ponds_case3_4['pond_id'].apply(lambda x: list(x))"
   ]
  },
  {
   "cell_type": "code",
   "execution_count": null,
   "metadata": {},
   "outputs": [],
   "source": [
    "# swb_ponds_case3_4"
   ]
  },
  {
   "cell_type": "code",
   "execution_count": null,
   "metadata": {},
   "outputs": [],
   "source": [
    "case3_4_merged_geom = []\n",
    "for swb in swb_ponds_case3_4[\"UID\"]:\n",
    "    # get corresponding farmpond geometries and merge them\n",
    "    # print(swb)\n",
    "    merged_geom = swb_gdf[swb_gdf[\"UID\"] == swb][\"geometry\"].iloc[0]\n",
    "    # print(merged_geom)\n",
    "    # case3_gdf.loc[case3_gdf['UID'] == swb,'pond_id'] = np.nan\n",
    "    for pond in list(\n",
    "        swb_ponds_case3_4[swb_ponds_case3_4[\"UID\"] == swb][\"pond_id\"].iloc[0]\n",
    "    ):\n",
    "        merged_geom = shapely.ops.unary_union(\n",
    "            [\n",
    "                merged_geom,\n",
    "                ponds_gdf[ponds_gdf[\"pond_id\"] == pond][\"geometry\"].iloc[0],\n",
    "            ]\n",
    "        )\n",
    "    case3_4_merged_geom.append(merged_geom)\n",
    "    case3_4_gdf.loc[case3_4_gdf[\"UID\"] == swb, \"geometry\"] = merged_geom"
   ]
  },
  {
   "cell_type": "code",
   "execution_count": null,
   "metadata": {},
   "outputs": [],
   "source": [
    "case3_4_gdf"
   ]
  },
  {
   "cell_type": "code",
   "execution_count": null,
   "metadata": {},
   "outputs": [],
   "source": [
    "case3_4_gdf.drop(['index_right'],axis=1,inplace=True)"
   ]
  },
  {
   "cell_type": "code",
   "execution_count": null,
   "metadata": {},
   "outputs": [],
   "source": [
    "merged_gdf = \\\n",
    "    pd.concat(\n",
    "        [\n",
    "            merged_gdf,\n",
    "            case3_4_gdf\n",
    "        ]\n",
    ")"
   ]
  },
  {
   "cell_type": "code",
   "execution_count": null,
   "metadata": {},
   "outputs": [],
   "source": [
    "merged_gdf.shape"
   ]
  },
  {
   "cell_type": "code",
   "execution_count": null,
   "metadata": {},
   "outputs": [],
   "source": [
    "merged_gdf"
   ]
  },
  {
   "cell_type": "code",
   "execution_count": null,
   "metadata": {},
   "outputs": [],
   "source": [
    "# merged_gdf.dtypes"
   ]
  }
 ],
 "metadata": {
  "kernelspec": {
   "display_name": ".ponds_n_wells",
   "language": "python",
   "name": "python3"
  },
  "language_info": {
   "codemirror_mode": {
    "name": "ipython",
    "version": 3
   },
   "file_extension": ".py",
   "mimetype": "text/x-python",
   "name": "python",
   "nbconvert_exporter": "python",
   "pygments_lexer": "ipython3",
   "version": "3.12.3"
  }
 },
 "nbformat": 4,
 "nbformat_minor": 2
}
