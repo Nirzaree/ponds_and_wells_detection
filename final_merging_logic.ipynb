{
 "cells": [
  {
   "cell_type": "code",
   "execution_count": 1,
   "metadata": {},
   "outputs": [],
   "source": [
    "import geopandas as gpd\n",
    "import pandas as pd\n",
    "import numpy as np\n",
    "import os\n",
    "import shapely"
   ]
  },
  {
   "cell_type": "code",
   "execution_count": 2,
   "metadata": {},
   "outputs": [],
   "source": [
    "swb_layer_path = os.path.join(\n",
    "    os.environ['DATA'],\n",
    "    'ponds_and_wells',\n",
    "    'gobindpur_swb2.json'\n",
    "    )\n",
    "\n",
    "ponds_layer_path = os.path.join(\n",
    "    os.environ['DATA'],\n",
    "    'ponds_and_wells/output/17/gobindpur/gobindpur_COMBINED_GEOMETRY',\n",
    "    'gobindpur_COMBINED_GEOMETRY.shp'\n",
    "    )\n",
    "\n",
    "mws_layer_path = os.path.join(\n",
    "    os.environ['DATA'],\n",
    "    'ponds_and_wells',\n",
    "    'gobindpur_mws.json'\n",
    "    )\n",
    "\n",
    "admin_boundary_layer_path = os.path.join(\n",
    "    os.environ['DATA'],\n",
    "    'ponds_and_wells',\n",
    "    'gobindpur_boundary.geojson'\n",
    "    )\n"
   ]
  },
  {
   "cell_type": "code",
   "execution_count": 3,
   "metadata": {},
   "outputs": [],
   "source": [
    "ponds_gdf = gpd.read_file(ponds_layer_path)\n",
    "\n",
    "swb_gdf = gpd.read_file(swb_layer_path)\n",
    "\n",
    "mws_gdf = gpd.read_file(mws_layer_path)\n",
    "\n",
    "admin_boundary_gdf = gpd.read_file(admin_boundary_layer_path)"
   ]
  },
  {
   "cell_type": "code",
   "execution_count": 4,
   "metadata": {},
   "outputs": [],
   "source": [
    "def split_multipolygon_into_individual_polygons(data_gdf):\n",
    "    data_gdf = data_gdf.explode()\n",
    "    return data_gdf\n",
    "\n",
    "def clip_to_admin_boundary(data_gdf,boundary_gdf):\n",
    "    data_gdf = data_gdf.sjoin(boundary_gdf[['geometry']],how = 'inner')\n",
    "    data_gdf.drop(['index_right'],axis=1,inplace=True)\n",
    "    return data_gdf\n",
    "\n",
    "def change_crs(data_gdf,crs):\n",
    "    data_gdf.to_crs(crs)\n",
    "    return data_gdf\n",
    "\n",
    "def generate_pond_id(data_gdf):\n",
    "    data_gdf.drop(['FID'],axis=1,inplace=True,errors='ignore') #drop if the column exists\n",
    "    data_gdf['pond_id'] = range(data_gdf.shape[0])\n",
    "    return data_gdf\n",
    "\n",
    "def dissolve_boundary(data_gdf):\n",
    "    data_gdf = data_gdf.dissolve()\n",
    "    return data_gdf"
   ]
  },
  {
   "cell_type": "code",
   "execution_count": 5,
   "metadata": {},
   "outputs": [],
   "source": [
    "if (ponds_gdf.shape[0] == 1):\n",
    "    ponds_gdf = split_multipolygon_into_individual_polygons(ponds_gdf)\n",
    "    ponds_gdf = generate_pond_id(ponds_gdf)"
   ]
  },
  {
   "cell_type": "code",
   "execution_count": 6,
   "metadata": {},
   "outputs": [],
   "source": [
    "# ponds_gdf.head()"
   ]
  },
  {
   "cell_type": "code",
   "execution_count": 7,
   "metadata": {},
   "outputs": [],
   "source": [
    "if (admin_boundary_gdf.shape[0] > 1):\n",
    "    admin_boundary_gdf = dissolve_boundary(admin_boundary_gdf)"
   ]
  },
  {
   "cell_type": "code",
   "execution_count": 8,
   "metadata": {},
   "outputs": [],
   "source": [
    "# admin_boundary_gdf"
   ]
  },
  {
   "cell_type": "code",
   "execution_count": 9,
   "metadata": {},
   "outputs": [],
   "source": [
    "ponds_gdf = clip_to_admin_boundary(\n",
    "    data_gdf=ponds_gdf,\n",
    "    boundary_gdf=admin_boundary_gdf\n",
    ")"
   ]
  },
  {
   "cell_type": "code",
   "execution_count": 10,
   "metadata": {},
   "outputs": [],
   "source": [
    "# ponds_gdf.shape"
   ]
  },
  {
   "cell_type": "code",
   "execution_count": 11,
   "metadata": {},
   "outputs": [],
   "source": [
    "swb_gdf = clip_to_admin_boundary(\n",
    "    data_gdf=swb_gdf,\n",
    "    boundary_gdf=admin_boundary_gdf\n",
    ")"
   ]
  },
  {
   "cell_type": "code",
   "execution_count": 12,
   "metadata": {},
   "outputs": [
    {
     "data": {
      "text/plain": [
       "(6600, 36)"
      ]
     },
     "execution_count": 12,
     "metadata": {},
     "output_type": "execute_result"
    }
   ],
   "source": [
    "swb_gdf.shape"
   ]
  },
  {
   "cell_type": "code",
   "execution_count": 13,
   "metadata": {},
   "outputs": [],
   "source": [
    "# swb_gdf = change_crs(\n",
    "#     data_gdf=swb_gdf,\n",
    "#     crs='crs:7755'\n",
    "# )\n",
    "\n",
    "# ponds_gdf = change_crs(\n",
    "#     data_gdf=ponds_gdf,\n",
    "#     crs='crs:7755'\n",
    "# )"
   ]
  },
  {
   "cell_type": "markdown",
   "metadata": {},
   "source": [
    "### Create merged dataframe"
   ]
  },
  {
   "cell_type": "markdown",
   "metadata": {},
   "source": [
    "1. Add standalone swb"
   ]
  },
  {
   "cell_type": "code",
   "execution_count": 14,
   "metadata": {},
   "outputs": [],
   "source": [
    "intersecting_UIDs = swb_gdf.sjoin(ponds_gdf)['UID'].tolist()"
   ]
  },
  {
   "cell_type": "code",
   "execution_count": 15,
   "metadata": {},
   "outputs": [],
   "source": [
    "standalone_swb_gdf = swb_gdf[~swb_gdf['UID'].isin(intersecting_UIDs)]"
   ]
  },
  {
   "cell_type": "code",
   "execution_count": 16,
   "metadata": {},
   "outputs": [
    {
     "data": {
      "text/plain": [
       "(5561, 36)"
      ]
     },
     "execution_count": 16,
     "metadata": {},
     "output_type": "execute_result"
    }
   ],
   "source": [
    "standalone_swb_gdf.shape"
   ]
  },
  {
   "cell_type": "code",
   "execution_count": 17,
   "metadata": {},
   "outputs": [],
   "source": [
    "merged_gdf = standalone_swb_gdf"
   ]
  },
  {
   "cell_type": "markdown",
   "metadata": {},
   "source": [
    "2. Add standalone ponds"
   ]
  },
  {
   "cell_type": "code",
   "execution_count": 18,
   "metadata": {},
   "outputs": [],
   "source": [
    "intersecting_pond_ids = ponds_gdf.sjoin(swb_gdf)['pond_id'].tolist()"
   ]
  },
  {
   "cell_type": "code",
   "execution_count": 19,
   "metadata": {},
   "outputs": [],
   "source": [
    "standalone_ponds_gdf = ponds_gdf[~ponds_gdf['pond_id'].isin(intersecting_pond_ids)]"
   ]
  },
  {
   "cell_type": "code",
   "execution_count": 20,
   "metadata": {},
   "outputs": [],
   "source": [
    "merged_gdf = pd.concat([merged_gdf,\n",
    "                        standalone_ponds_gdf])"
   ]
  },
  {
   "cell_type": "code",
   "execution_count": 21,
   "metadata": {},
   "outputs": [
    {
     "data": {
      "text/plain": [
       "(6373, 37)"
      ]
     },
     "execution_count": 21,
     "metadata": {},
     "output_type": "execute_result"
    }
   ],
   "source": [
    "merged_gdf.shape"
   ]
  },
  {
   "attachments": {
    "image.png": {
     "image/png": "[encoded data removed]"
    }
   },
   "cell_type": "markdown",
   "metadata": {},
   "source": [
    "#### Intersection scenarios\n",
    "\n",
    "![image.png](attachment:image.png)"
   ]
  },
  {
   "cell_type": "code",
   "execution_count": 22,
   "metadata": {},
   "outputs": [],
   "source": [
    "intersections_gdf = swb_gdf.sjoin(ponds_gdf)"
   ]
  },
  {
   "cell_type": "code",
   "execution_count": 23,
   "metadata": {},
   "outputs": [],
   "source": [
    "# ponds_gdf"
   ]
  },
  {
   "cell_type": "code",
   "execution_count": 24,
   "metadata": {},
   "outputs": [
    {
     "data": {
      "text/plain": [
       "(1067, 38)"
      ]
     },
     "execution_count": 24,
     "metadata": {},
     "output_type": "execute_result"
    }
   ],
   "source": [
    "intersections_gdf.shape"
   ]
  },
  {
   "cell_type": "code",
   "execution_count": 25,
   "metadata": {},
   "outputs": [],
   "source": [
    "# ponds_gdf"
   ]
  },
  {
   "cell_type": "code",
   "execution_count": 26,
   "metadata": {},
   "outputs": [],
   "source": [
    "swb_intersections_df = intersections_gdf.groupby(['UID'])['pond_id'].unique().reset_index()"
   ]
  },
  {
   "cell_type": "code",
   "execution_count": 27,
   "metadata": {},
   "outputs": [],
   "source": [
    "pond_intersections_df = intersections_gdf.groupby(['pond_id'])['UID'].unique().reset_index()"
   ]
  },
  {
   "cell_type": "code",
   "execution_count": 28,
   "metadata": {},
   "outputs": [
    {
     "data": {
      "text/plain": [
       "(6373, 37)"
      ]
     },
     "execution_count": 28,
     "metadata": {},
     "output_type": "execute_result"
    }
   ],
   "source": [
    "merged_gdf.shape"
   ]
  },
  {
   "cell_type": "code",
   "execution_count": 29,
   "metadata": {},
   "outputs": [],
   "source": [
    "single_intersection_uids = [row['UID'] for ind,row in swb_intersections_df.iterrows() if len(row['pond_id']) == 1]"
   ]
  },
  {
   "cell_type": "code",
   "execution_count": 30,
   "metadata": {},
   "outputs": [
    {
     "data": {
      "text/plain": [
       "1033"
      ]
     },
     "execution_count": 30,
     "metadata": {},
     "output_type": "execute_result"
    }
   ],
   "source": [
    "len(single_intersection_uids)"
   ]
  },
  {
   "cell_type": "code",
   "execution_count": 31,
   "metadata": {},
   "outputs": [],
   "source": [
    "# single_intersection_uids"
   ]
  },
  {
   "cell_type": "code",
   "execution_count": 32,
   "metadata": {},
   "outputs": [],
   "source": [
    "# pond_intersections_df"
   ]
  },
  {
   "cell_type": "code",
   "execution_count": 33,
   "metadata": {},
   "outputs": [],
   "source": [
    "case_1_swb_ids = []\n",
    "for x in single_intersection_uids:\n",
    "    for y in pond_intersections_df['UID']:\n",
    "        if (x in y):\n",
    "            if (len(y) == 1):\n",
    "                case_1_swb_ids.append(x)"
   ]
  },
  {
   "cell_type": "code",
   "execution_count": 34,
   "metadata": {},
   "outputs": [
    {
     "data": {
      "text/plain": [
       "923"
      ]
     },
     "execution_count": 34,
     "metadata": {},
     "output_type": "execute_result"
    }
   ],
   "source": [
    "len(case_1_swb_ids)"
   ]
  },
  {
   "cell_type": "code",
   "execution_count": 35,
   "metadata": {},
   "outputs": [],
   "source": [
    "# ponds_gdf"
   ]
  },
  {
   "cell_type": "code",
   "execution_count": 36,
   "metadata": {},
   "outputs": [],
   "source": [
    "case1_gdf = swb_gdf[swb_gdf['UID'].isin(case_1_swb_ids)].sjoin(\n",
    "    ponds_gdf,\n",
    "    how='left'\n",
    ")"
   ]
  },
  {
   "cell_type": "code",
   "execution_count": 37,
   "metadata": {},
   "outputs": [],
   "source": [
    "case1_gdf.drop(['index_right'],axis=1,inplace=True)"
   ]
  },
  {
   "cell_type": "code",
   "execution_count": 38,
   "metadata": {},
   "outputs": [],
   "source": [
    "for index,row in case1_gdf.iterrows():\n",
    "    case1_gdf.loc[index,'geometry'] = shapely.ops.unary_union(\n",
    "        [\n",
    "            row['geometry'],\n",
    "            ponds_gdf[ponds_gdf['pond_id'] == row['pond_id']]['geometry'].iloc[0]\n",
    "        ]\n",
    "    ) #new find: without the .loc it wont update the original value of the row geometries. like row['geometry] = unary_union(row['geometry'],pond['geometry']) didnt update the value\n"
   ]
  },
  {
   "cell_type": "code",
   "execution_count": 39,
   "metadata": {},
   "outputs": [],
   "source": [
    "merged_gdf = \\\n",
    "    pd.concat(\n",
    "        [\n",
    "            merged_gdf,\n",
    "            case1_gdf\n",
    "        ]\n",
    ")"
   ]
  },
  {
   "cell_type": "code",
   "execution_count": 40,
   "metadata": {},
   "outputs": [
    {
     "data": {
      "text/plain": [
       "(7296, 37)"
      ]
     },
     "execution_count": 40,
     "metadata": {},
     "output_type": "execute_result"
    }
   ],
   "source": [
    "merged_gdf.shape"
   ]
  },
  {
   "cell_type": "markdown",
   "metadata": {},
   "source": [
    "Case 2: Cases of ponds intersecting with more than 1 SWBs, and SWBs intersecting with only 1 pond\n",
    "- In these cases we currently dont merge the boundary of the intersecting pond and swbs, but just tag the pond which intersects with an SWB, and have 1 row per SWB. "
   ]
  },
  {
   "cell_type": "code",
   "execution_count": 41,
   "metadata": {},
   "outputs": [],
   "source": [
    "single_intersection_pond_ids = [row['pond_id'] for ind,row in pond_intersections_df.iterrows() if len(row['UID']) == 1]\n",
    "#ponds that intersect with only 1 swb\n",
    "\n",
    "multi_intersection_pond_ids = [row['pond_id'] for ind,row in pond_intersections_df.iterrows() if len(row['UID']) > 1]\n",
    "#ponds that intersect with only 1 swb"
   ]
  },
  {
   "cell_type": "code",
   "execution_count": 42,
   "metadata": {},
   "outputs": [
    {
     "name": "stdout",
     "output_type": "stream",
     "text": [
      "956\n",
      "52\n"
     ]
    }
   ],
   "source": [
    "print(len(single_intersection_pond_ids))\n",
    "print(len(multi_intersection_pond_ids))"
   ]
  },
  {
   "cell_type": "code",
   "execution_count": 43,
   "metadata": {},
   "outputs": [],
   "source": [
    "# pond_intersections_df"
   ]
  },
  {
   "cell_type": "code",
   "execution_count": 44,
   "metadata": {},
   "outputs": [],
   "source": [
    "# swb_intersections_df"
   ]
  },
  {
   "cell_type": "code",
   "execution_count": 45,
   "metadata": {},
   "outputs": [],
   "source": [
    "case2_swb_ids = []\n",
    "for x in single_intersection_uids:\n",
    "    for y in pond_intersections_df['UID']:\n",
    "        if (x in y):\n",
    "            if (len(y) > 1):\n",
    "                case2_swb_ids.append(x)"
   ]
  },
  {
   "cell_type": "code",
   "execution_count": 46,
   "metadata": {},
   "outputs": [
    {
     "data": {
      "text/plain": [
       "110"
      ]
     },
     "execution_count": 46,
     "metadata": {},
     "output_type": "execute_result"
    }
   ],
   "source": [
    "len(case2_swb_ids)"
   ]
  },
  {
   "cell_type": "code",
   "execution_count": 47,
   "metadata": {},
   "outputs": [],
   "source": [
    "case2_gdf = swb_gdf[swb_gdf['UID'].isin(case2_swb_ids)].sjoin(\n",
    "    ponds_gdf,\n",
    "    how='left'\n",
    ")"
   ]
  },
  {
   "cell_type": "code",
   "execution_count": 48,
   "metadata": {},
   "outputs": [],
   "source": [
    "# case2_gdf.head()"
   ]
  },
  {
   "cell_type": "code",
   "execution_count": 49,
   "metadata": {},
   "outputs": [],
   "source": [
    "case2_gdf.drop(['index_right'],axis=1,inplace=True)"
   ]
  },
  {
   "cell_type": "code",
   "execution_count": 50,
   "metadata": {},
   "outputs": [
    {
     "data": {
      "text/plain": [
       "(110, 37)"
      ]
     },
     "execution_count": 50,
     "metadata": {},
     "output_type": "execute_result"
    }
   ],
   "source": [
    "case2_gdf.shape"
   ]
  },
  {
   "cell_type": "code",
   "execution_count": 51,
   "metadata": {},
   "outputs": [],
   "source": [
    "merged_gdf = \\\n",
    "    pd.concat(\n",
    "        [\n",
    "            merged_gdf,\n",
    "            case2_gdf\n",
    "        ]\n",
    ")"
   ]
  },
  {
   "cell_type": "code",
   "execution_count": 52,
   "metadata": {},
   "outputs": [
    {
     "data": {
      "text/plain": [
       "(7406, 37)"
      ]
     },
     "execution_count": 52,
     "metadata": {},
     "output_type": "execute_result"
    }
   ],
   "source": [
    "merged_gdf.shape"
   ]
  },
  {
   "cell_type": "markdown",
   "metadata": {},
   "source": [
    "Case 3: Cases of SWB intersecting with more than 1 ponds, and the corresponding ponds intersecting with only 1 SWB  \n",
    "Case 4: Cases of SWB intersecting with more than 1 ponds, and the corresponding ponds intersecting with more than 1 SWB  \n",
    "\n",
    "It makes sense to combine these cases wrt the dataframe"
   ]
  },
  {
   "cell_type": "code",
   "execution_count": 53,
   "metadata": {},
   "outputs": [],
   "source": [
    "multi_intersection_uids = [row['UID'] for ind,row in swb_intersections_df.iterrows() if len(row['pond_id']) > 1]"
   ]
  },
  {
   "cell_type": "code",
   "execution_count": 54,
   "metadata": {},
   "outputs": [
    {
     "data": {
      "text/plain": [
       "['6_1084_6_1421_6_4571_8025',\n",
       " '6_3181_137',\n",
       " '6_3812_6_3894_6_3938_6_3991_6_4133_6_4254_6_4092_148',\n",
       " '6_4284_6_4311_8051',\n",
       " '6_437_6_1454_6_1610_6_1777_6_1889_6_2036_6_2183_6_2403_6_2462_6_2495_6_3558_6_438_6_1086_149',\n",
       " '6_440_6_1088_6_1291_6_1556_6_2706_6_2785_6_2831_6_2909_6_2954_6_2960_6_2999_6_3154_6_3181_6_3196_6_3350_6_3424_6_3458_6_3491_6_3500_6_3526_6_3546_6_3930_6_4747_6_4777_6_5011_6_1710_6_2867_6_2920_6_3050_6_3295_150']"
      ]
     },
     "execution_count": 54,
     "metadata": {},
     "output_type": "execute_result"
    }
   ],
   "source": [
    "multi_intersection_uids"
   ]
  },
  {
   "cell_type": "code",
   "execution_count": 55,
   "metadata": {},
   "outputs": [],
   "source": [
    "case3_4_swb_ids = []\n",
    "case3_4_pond_ids = []\n",
    "for x in multi_intersection_uids:\n",
    "    for ind,row in pond_intersections_df.iterrows():\n",
    "        if (x in row['UID']):\n",
    "            if (len(row['UID']) >= 1):\n",
    "                # print(row['pond_id'])\n",
    "                case3_4_swb_ids.append(x)\n",
    "                case3_4_pond_ids.append(row['pond_id'])"
   ]
  },
  {
   "cell_type": "code",
   "execution_count": 56,
   "metadata": {},
   "outputs": [
    {
     "data": {
      "text/plain": [
       "34"
      ]
     },
     "execution_count": 56,
     "metadata": {},
     "output_type": "execute_result"
    }
   ],
   "source": [
    "len(case3_4_swb_ids) #again these are intersections, not unique swb ids"
   ]
  },
  {
   "cell_type": "code",
   "execution_count": 57,
   "metadata": {},
   "outputs": [],
   "source": [
    "case3_4_gdf = swb_gdf[swb_gdf['UID'].isin(case3_4_swb_ids)].sjoin(\n",
    "    ponds_gdf[ponds_gdf['pond_id'].isin(case3_4_pond_ids)],\n",
    "    how='left'\n",
    ")"
   ]
  },
  {
   "cell_type": "markdown",
   "metadata": {},
   "source": [
    "Create merged geometry and add comma separated pond ids"
   ]
  },
  {
   "cell_type": "code",
   "execution_count": 59,
   "metadata": {},
   "outputs": [
    {
     "data": {
      "text/html": [
       "<div>\n",
       "<style scoped>\n",
       "    .dataframe tbody tr th:only-of-type {\n",
       "        vertical-align: middle;\n",
       "    }\n",
       "\n",
       "    .dataframe tbody tr th {\n",
       "        vertical-align: top;\n",
       "    }\n",
       "\n",
       "    .dataframe thead th {\n",
       "        text-align: right;\n",
       "    }\n",
       "</style>\n",
       "<table border=\"1\" class=\"dataframe\">\n",
       "  <thead>\n",
       "    <tr style=\"text-align: right;\">\n",
       "      <th></th>\n",
       "      <th>UID</th>\n",
       "      <th>pond_id</th>\n",
       "    </tr>\n",
       "  </thead>\n",
       "  <tbody>\n",
       "    <tr>\n",
       "      <th>0</th>\n",
       "      <td>6_1084_6_1421_6_4571_8025</td>\n",
       "      <td>{2625, 2609}</td>\n",
       "    </tr>\n",
       "    <tr>\n",
       "      <th>1</th>\n",
       "      <td>6_3181_137</td>\n",
       "      <td>{1569, 1562}</td>\n",
       "    </tr>\n",
       "    <tr>\n",
       "      <th>2</th>\n",
       "      <td>6_3812_6_3894_6_3938_6_3991_6_4133_6_4254_6_40...</td>\n",
       "      <td>{1336, 1418, 1238, 1158}</td>\n",
       "    </tr>\n",
       "    <tr>\n",
       "      <th>3</th>\n",
       "      <td>6_4284_6_4311_8051</td>\n",
       "      <td>{2555, 2574}</td>\n",
       "    </tr>\n",
       "    <tr>\n",
       "      <th>4</th>\n",
       "      <td>6_437_6_1454_6_1610_6_1777_6_1889_6_2036_6_218...</td>\n",
       "      <td>{2281, 2579, 2924, 3167}</td>\n",
       "    </tr>\n",
       "    <tr>\n",
       "      <th>5</th>\n",
       "      <td>6_440_6_1088_6_1291_6_1556_6_2706_6_2785_6_283...</td>\n",
       "      <td>{2176, 2064, 2066, 1443, 1830, 2095, 1971, 133...</td>\n",
       "    </tr>\n",
       "  </tbody>\n",
       "</table>\n",
       "</div>"
      ],
      "text/plain": [
       "                                                 UID  \\\n",
       "0                          6_1084_6_1421_6_4571_8025   \n",
       "1                                         6_3181_137   \n",
       "2  6_3812_6_3894_6_3938_6_3991_6_4133_6_4254_6_40...   \n",
       "3                                 6_4284_6_4311_8051   \n",
       "4  6_437_6_1454_6_1610_6_1777_6_1889_6_2036_6_218...   \n",
       "5  6_440_6_1088_6_1291_6_1556_6_2706_6_2785_6_283...   \n",
       "\n",
       "                                             pond_id  \n",
       "0                                       {2625, 2609}  \n",
       "1                                       {1569, 1562}  \n",
       "2                           {1336, 1418, 1238, 1158}  \n",
       "3                                       {2555, 2574}  \n",
       "4                           {2281, 2579, 2924, 3167}  \n",
       "5  {2176, 2064, 2066, 1443, 1830, 2095, 1971, 133...  "
      ]
     },
     "execution_count": 59,
     "metadata": {},
     "output_type": "execute_result"
    }
   ],
   "source": [
    "swb_ponds_case3_4 = case3_4_gdf.groupby(['UID'])['pond_id'].agg(set).reset_index()\n",
    "swb_ponds_case3_4"
   ]
  },
  {
   "cell_type": "code",
   "execution_count": 61,
   "metadata": {},
   "outputs": [],
   "source": [
    "swb_ponds_case3_4['pond_id'] = swb_ponds_case3_4['pond_id'].apply(lambda x: list(x))"
   ]
  },
  {
   "cell_type": "code",
   "execution_count": 62,
   "metadata": {},
   "outputs": [],
   "source": [
    "case3_4_dict = swb_ponds_case3_4.set_index('UID').T.to_dict('list')"
   ]
  },
  {
   "cell_type": "code",
   "execution_count": 64,
   "metadata": {},
   "outputs": [],
   "source": [
    "# case3_dict"
   ]
  },
  {
   "cell_type": "code",
   "execution_count": 63,
   "metadata": {},
   "outputs": [
    {
     "data": {
      "text/plain": [
       "dict_values([[[2625, 2609]], [[1569, 1562]], [[1336, 1418, 1238, 1158]], [[2555, 2574]], [[2281, 2579, 2924, 3167]], [[2176, 2064, 2066, 1443, 1830, 2095, 1971, 1334, 1853, 1218, 2122, 1356, 1869, 1755, 2012, 2142, 1249, 1388, 1773, 1774]]])"
      ]
     },
     "execution_count": 63,
     "metadata": {},
     "output_type": "execute_result"
    }
   ],
   "source": [
    "case3_4_dict.values()"
   ]
  },
  {
   "cell_type": "markdown",
   "metadata": {},
   "source": [
    "Learning:\n",
    "* Apparently list/set or any multiple values is not a good idea to assign to a cell in pandas.  \n",
    "\n",
    "- https://stackoverflow.com/questions/53116286/how-to-assign-an-entire-list-to-each-row-of-a-pandas-dataframe\n",
    "- https://stackoverflow.com/questions/52552198/how-to-set-the-value-of-a-pandas-column-as-list/52563718#52563718\n",
    "\n",
    "So this is a TODO for later. \n",
    "For now, I will keep it as a list. "
   ]
  },
  {
   "cell_type": "code",
   "execution_count": 64,
   "metadata": {},
   "outputs": [],
   "source": [
    "case3_4_merged_geom = []\n",
    "for swb in swb_ponds_case3_4['UID']:\n",
    "    #get corresponding farmpond geometries and merge them \n",
    "    # print(swb)\n",
    "    merged_geom = swb_gdf[swb_gdf['UID'] == swb]['geometry'].iloc[0]\n",
    "    # print(merged_geom)\n",
    "    # case3_gdf.loc[case3_gdf['UID'] == swb,'pond_id'] = np.nan\n",
    "    for pond in list(swb_ponds_case3_4[swb_ponds_case3_4['UID'] == swb]['pond_id'].iloc[0]):\n",
    "        merged_geom = shapely.ops.unary_union(\n",
    "            [\n",
    "                merged_geom,\n",
    "                ponds_gdf[ponds_gdf['pond_id'] == pond]['geometry'].iloc[0]\n",
    "            ])\n",
    "    case3_4_merged_geom.append(merged_geom)\n",
    "    case3_4_gdf.loc[case3_4_gdf['UID'] == swb,'geometry'] = merged_geom"
   ]
  },
  {
   "cell_type": "markdown",
   "metadata": {},
   "source": [
    "Keep only 1 row per SWB"
   ]
  },
  {
   "cell_type": "code",
   "execution_count": 65,
   "metadata": {},
   "outputs": [],
   "source": [
    "case3_4_gdf = case3_4_gdf.groupby(['UID']).first().reset_index()"
   ]
  },
  {
   "cell_type": "code",
   "execution_count": 66,
   "metadata": {},
   "outputs": [],
   "source": [
    "case3_4_gdf.drop(['index_right'],axis=1,inplace=True)"
   ]
  },
  {
   "cell_type": "code",
   "execution_count": 71,
   "metadata": {},
   "outputs": [],
   "source": [
    "case3_4_gdf.drop(['pond_id'],axis=1,inplace=True)"
   ]
  },
  {
   "cell_type": "code",
   "execution_count": 72,
   "metadata": {},
   "outputs": [],
   "source": [
    "case3_4_gdf = case3_4_gdf.merge(swb_ponds_case3_4,\n",
    "                how='left')"
   ]
  },
  {
   "cell_type": "code",
   "execution_count": 73,
   "metadata": {},
   "outputs": [
    {
     "name": "stderr",
     "output_type": "stream",
     "text": [
      "/home/nirzaree/miniconda3/envs/.ponds_n_wells/lib/python3.12/site-packages/geopandas/array.py:1638: UserWarning: CRS not set for some of the concatenation inputs. Setting output's CRS as WGS 84 (the single non-null crs provided).\n",
      "  return GeometryArray(data, crs=_get_common_crs(to_concat))\n"
     ]
    }
   ],
   "source": [
    "merged_gdf = \\\n",
    "    pd.concat(\n",
    "        [\n",
    "            merged_gdf,\n",
    "            case3_4_gdf\n",
    "        ]\n",
    ")"
   ]
  },
  {
   "cell_type": "code",
   "execution_count": 74,
   "metadata": {},
   "outputs": [
    {
     "data": {
      "text/plain": [
       "(7412, 37)"
      ]
     },
     "execution_count": 74,
     "metadata": {},
     "output_type": "execute_result"
    }
   ],
   "source": [
    "merged_gdf.shape"
   ]
  }
 ],
 "metadata": {
  "kernelspec": {
   "display_name": ".ponds_n_wells",
   "language": "python",
   "name": "python3"
  },
  "language_info": {
   "codemirror_mode": {
    "name": "ipython",
    "version": 3
   },
   "file_extension": ".py",
   "mimetype": "text/x-python",
   "name": "python",
   "nbconvert_exporter": "python",
   "pygments_lexer": "ipython3",
   "version": "3.12.3"
  }
 },
 "nbformat": 4,
 "nbformat_minor": 2
}
