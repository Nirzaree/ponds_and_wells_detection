{
 "cells": [
  {
   "cell_type": "code",
   "execution_count": 1,
   "metadata": {},
   "outputs": [],
   "source": [
    "import geopandas as gpd\n",
    "import pandas as pd\n",
    "import numpy as np\n",
    "import os"
   ]
  },
  {
   "cell_type": "code",
   "execution_count": 2,
   "metadata": {},
   "outputs": [],
   "source": [
    "swb_layer_path = os.path.join(\n",
    "    os.environ['DATA'],\n",
    "    'ponds_and_wells',\n",
    "    'gobindpur_swb2.json'\n",
    "    )\n",
    "\n",
    "ponds_layer_path = os.path.join(\n",
    "    os.environ['DATA'],\n",
    "    'ponds_and_wells/output/17/gobindpur/gobindpur_COMBINED_GEOMETRY',\n",
    "    'gobindpur_COMBINED_GEOMETRY.shp'\n",
    "    )\n",
    "\n",
    "mws_layer_path = os.path.join(\n",
    "    os.environ['DATA'],\n",
    "    'ponds_and_wells',\n",
    "    'gobindpur_mws.json'\n",
    "    )\n",
    "\n",
    "admin_boundary_layer_path = os.path.join(\n",
    "    os.environ['DATA'],\n",
    "    'ponds_and_wells',\n",
    "    'gobindpur_boundary.geojson'\n",
    "    )\n"
   ]
  },
  {
   "cell_type": "code",
   "execution_count": 3,
   "metadata": {},
   "outputs": [],
   "source": [
    "ponds_gdf = gpd.read_file(ponds_layer_path)\n",
    "\n",
    "swb_gdf = gpd.read_file(swb_layer_path)\n",
    "\n",
    "mws_gdf = gpd.read_file(mws_layer_path)\n",
    "\n",
    "admin_boundary_gdf = gpd.read_file(admin_boundary_layer_path)"
   ]
  },
  {
   "cell_type": "code",
   "execution_count": 4,
   "metadata": {},
   "outputs": [],
   "source": [
    "def split_multipolygon_into_individual_polygons(data_gdf):\n",
    "    data_gdf = data_gdf.explode()\n",
    "    return data_gdf\n",
    "\n",
    "def clip_to_admin_boundary(data_gdf,boundary_gdf):\n",
    "    data_gdf = data_gdf.sjoin(boundary_gdf[['geometry']],how = 'inner')\n",
    "    data_gdf.drop(['index_right'],axis=1,inplace=True)\n",
    "    return data_gdf\n",
    "\n",
    "def change_crs(data_gdf,crs):\n",
    "    data_gdf.to_crs(crs)\n",
    "    return data_gdf\n",
    "\n",
    "def generate_pond_id(data_gdf):\n",
    "    data_gdf.drop(['FID'],axis=1,inplace=True,errors='ignore') #drop if the column exists\n",
    "    data_gdf['pond_id'] = range(data_gdf.shape[0])\n",
    "    return data_gdf\n",
    "\n",
    "def dissolve_boundary(data_gdf):\n",
    "    data_gdf = data_gdf.dissolve()\n",
    "    return data_gdf"
   ]
  },
  {
   "cell_type": "code",
   "execution_count": 5,
   "metadata": {},
   "outputs": [],
   "source": [
    "if (ponds_gdf.shape[0] == 1):\n",
    "    ponds_gdf = split_multipolygon_into_individual_polygons(ponds_gdf)\n",
    "    ponds_gdf = generate_pond_id(ponds_gdf)"
   ]
  },
  {
   "cell_type": "code",
   "execution_count": 6,
   "metadata": {},
   "outputs": [],
   "source": [
    "# ponds_gdf.head()"
   ]
  },
  {
   "cell_type": "code",
   "execution_count": 7,
   "metadata": {},
   "outputs": [],
   "source": [
    "if (admin_boundary_gdf.shape[0] > 1):\n",
    "    admin_boundary_gdf = dissolve_boundary(admin_boundary_gdf)"
   ]
  },
  {
   "cell_type": "code",
   "execution_count": 8,
   "metadata": {},
   "outputs": [],
   "source": [
    "# admin_boundary_gdf"
   ]
  },
  {
   "cell_type": "code",
   "execution_count": 9,
   "metadata": {},
   "outputs": [],
   "source": [
    "ponds_gdf = clip_to_admin_boundary(\n",
    "    data_gdf=ponds_gdf,\n",
    "    boundary_gdf=admin_boundary_gdf\n",
    ")"
   ]
  },
  {
   "cell_type": "code",
   "execution_count": 10,
   "metadata": {},
   "outputs": [],
   "source": [
    "# ponds_gdf.shape"
   ]
  },
  {
   "cell_type": "code",
   "execution_count": 11,
   "metadata": {},
   "outputs": [],
   "source": [
    "swb_gdf = clip_to_admin_boundary(\n",
    "    data_gdf=swb_gdf,\n",
    "    boundary_gdf=admin_boundary_gdf\n",
    ")"
   ]
  },
  {
   "cell_type": "code",
   "execution_count": 12,
   "metadata": {},
   "outputs": [
    {
     "data": {
      "text/plain": [
       "(6600, 36)"
      ]
     },
     "execution_count": 12,
     "metadata": {},
     "output_type": "execute_result"
    }
   ],
   "source": [
    "swb_gdf.shape"
   ]
  },
  {
   "cell_type": "code",
   "execution_count": 13,
   "metadata": {},
   "outputs": [],
   "source": [
    "# swb_gdf = change_crs(\n",
    "#     data_gdf=swb_gdf,\n",
    "#     crs='crs:7755'\n",
    "# )\n",
    "\n",
    "# ponds_gdf = change_crs(\n",
    "#     data_gdf=ponds_gdf,\n",
    "#     crs='crs:7755'\n",
    "# )"
   ]
  },
  {
   "cell_type": "markdown",
   "metadata": {},
   "source": [
    "### Create merged dataframe"
   ]
  },
  {
   "cell_type": "markdown",
   "metadata": {},
   "source": [
    "1. Add standalone swb"
   ]
  },
  {
   "cell_type": "code",
   "execution_count": 14,
   "metadata": {},
   "outputs": [],
   "source": [
    "intersecting_UIDs = swb_gdf.sjoin(ponds_gdf)['UID'].tolist()"
   ]
  },
  {
   "cell_type": "code",
   "execution_count": 15,
   "metadata": {},
   "outputs": [],
   "source": [
    "standalone_swb_gdf = swb_gdf[~swb_gdf['UID'].isin(intersecting_UIDs)]"
   ]
  },
  {
   "cell_type": "code",
   "execution_count": 16,
   "metadata": {},
   "outputs": [
    {
     "data": {
      "text/plain": [
       "(5561, 36)"
      ]
     },
     "execution_count": 16,
     "metadata": {},
     "output_type": "execute_result"
    }
   ],
   "source": [
    "standalone_swb_gdf.shape"
   ]
  },
  {
   "cell_type": "code",
   "execution_count": 17,
   "metadata": {},
   "outputs": [],
   "source": [
    "merged_gdf = standalone_swb_gdf"
   ]
  },
  {
   "cell_type": "markdown",
   "metadata": {},
   "source": [
    "2. Add standalone ponds"
   ]
  },
  {
   "cell_type": "code",
   "execution_count": 18,
   "metadata": {},
   "outputs": [],
   "source": [
    "intersecting_pond_ids = ponds_gdf.sjoin(swb_gdf)['pond_id'].tolist()"
   ]
  },
  {
   "cell_type": "code",
   "execution_count": 19,
   "metadata": {},
   "outputs": [],
   "source": [
    "standalone_ponds_gdf = ponds_gdf[~ponds_gdf['pond_id'].isin(intersecting_pond_ids)]"
   ]
  },
  {
   "cell_type": "code",
   "execution_count": 20,
   "metadata": {},
   "outputs": [],
   "source": [
    "merged_gdf = pd.concat([merged_gdf,\n",
    "                        standalone_ponds_gdf])"
   ]
  },
  {
   "cell_type": "code",
   "execution_count": 21,
   "metadata": {},
   "outputs": [
    {
     "data": {
      "text/plain": [
       "(6373, 37)"
      ]
     },
     "execution_count": 21,
     "metadata": {},
     "output_type": "execute_result"
    }
   ],
   "source": [
    "merged_gdf.shape"
   ]
  },
  {
   "attachments": {
    "image.png": {
     "image/png": "[encoded data removed]"
    }
   },
   "cell_type": "markdown",
   "metadata": {},
   "source": [
    "#### Intersection scenarios\n",
    "\n",
    "![image.png](attachment:image.png)"
   ]
  },
  {
   "cell_type": "code",
   "execution_count": 22,
   "metadata": {},
   "outputs": [],
   "source": [
    "intersections_gdf = swb_gdf.sjoin(ponds_gdf)"
   ]
  },
  {
   "cell_type": "code",
   "execution_count": 23,
   "metadata": {},
   "outputs": [
    {
     "data": {
      "text/html": [
       "<div>\n",
       "<style scoped>\n",
       "    .dataframe tbody tr th:only-of-type {\n",
       "        vertical-align: middle;\n",
       "    }\n",
       "\n",
       "    .dataframe tbody tr th {\n",
       "        vertical-align: top;\n",
       "    }\n",
       "\n",
       "    .dataframe thead th {\n",
       "        text-align: right;\n",
       "    }\n",
       "</style>\n",
       "<table border=\"1\" class=\"dataframe\">\n",
       "  <thead>\n",
       "    <tr style=\"text-align: right;\">\n",
       "      <th></th>\n",
       "      <th>geometry</th>\n",
       "      <th>pond_id</th>\n",
       "    </tr>\n",
       "  </thead>\n",
       "  <tbody>\n",
       "    <tr>\n",
       "      <th>0</th>\n",
       "      <td>POLYGON ((86.24542 22.98588, 86.24542 22.9859,...</td>\n",
       "      <td>526</td>\n",
       "    </tr>\n",
       "    <tr>\n",
       "      <th>0</th>\n",
       "      <td>POLYGON ((86.24094 22.97678, 86.24094 22.97679...</td>\n",
       "      <td>566</td>\n",
       "    </tr>\n",
       "    <tr>\n",
       "      <th>0</th>\n",
       "      <td>POLYGON ((86.22695 22.97532, 86.22695 22.97532...</td>\n",
       "      <td>679</td>\n",
       "    </tr>\n",
       "    <tr>\n",
       "      <th>0</th>\n",
       "      <td>POLYGON ((86.22416 22.97425, 86.22418 22.97426...</td>\n",
       "      <td>707</td>\n",
       "    </tr>\n",
       "    <tr>\n",
       "      <th>0</th>\n",
       "      <td>POLYGON ((86.21476 22.99128, 86.21476 22.99129...</td>\n",
       "      <td>792</td>\n",
       "    </tr>\n",
       "    <tr>\n",
       "      <th>...</th>\n",
       "      <td>...</td>\n",
       "      <td>...</td>\n",
       "    </tr>\n",
       "    <tr>\n",
       "      <th>0</th>\n",
       "      <td>POLYGON ((85.64871 22.87705, 85.64871 22.87706...</td>\n",
       "      <td>4288</td>\n",
       "    </tr>\n",
       "    <tr>\n",
       "      <th>0</th>\n",
       "      <td>POLYGON ((85.6491 22.87819, 85.64908 22.87822,...</td>\n",
       "      <td>4289</td>\n",
       "    </tr>\n",
       "    <tr>\n",
       "      <th>0</th>\n",
       "      <td>POLYGON ((85.64802 22.90025, 85.64802 22.90027...</td>\n",
       "      <td>4292</td>\n",
       "    </tr>\n",
       "    <tr>\n",
       "      <th>0</th>\n",
       "      <td>POLYGON ((85.64667 22.9014, 85.64667 22.90141,...</td>\n",
       "      <td>4293</td>\n",
       "    </tr>\n",
       "    <tr>\n",
       "      <th>0</th>\n",
       "      <td>POLYGON ((85.58236 22.86127, 85.58236 22.86128...</td>\n",
       "      <td>4537</td>\n",
       "    </tr>\n",
       "  </tbody>\n",
       "</table>\n",
       "<p>1820 rows × 2 columns</p>\n",
       "</div>"
      ],
      "text/plain": [
       "                                             geometry  pond_id\n",
       "0   POLYGON ((86.24542 22.98588, 86.24542 22.9859,...      526\n",
       "0   POLYGON ((86.24094 22.97678, 86.24094 22.97679...      566\n",
       "0   POLYGON ((86.22695 22.97532, 86.22695 22.97532...      679\n",
       "0   POLYGON ((86.22416 22.97425, 86.22418 22.97426...      707\n",
       "0   POLYGON ((86.21476 22.99128, 86.21476 22.99129...      792\n",
       "..                                                ...      ...\n",
       "0   POLYGON ((85.64871 22.87705, 85.64871 22.87706...     4288\n",
       "0   POLYGON ((85.6491 22.87819, 85.64908 22.87822,...     4289\n",
       "0   POLYGON ((85.64802 22.90025, 85.64802 22.90027...     4292\n",
       "0   POLYGON ((85.64667 22.9014, 85.64667 22.90141,...     4293\n",
       "0   POLYGON ((85.58236 22.86127, 85.58236 22.86128...     4537\n",
       "\n",
       "[1820 rows x 2 columns]"
      ]
     },
     "execution_count": 23,
     "metadata": {},
     "output_type": "execute_result"
    }
   ],
   "source": [
    "ponds_gdf"
   ]
  },
  {
   "cell_type": "code",
   "execution_count": 24,
   "metadata": {},
   "outputs": [
    {
     "data": {
      "text/plain": [
       "(1067, 38)"
      ]
     },
     "execution_count": 24,
     "metadata": {},
     "output_type": "execute_result"
    }
   ],
   "source": [
    "intersections_gdf.shape"
   ]
  },
  {
   "cell_type": "code",
   "execution_count": 25,
   "metadata": {},
   "outputs": [
    {
     "data": {
      "text/html": [
       "<div>\n",
       "<style scoped>\n",
       "    .dataframe tbody tr th:only-of-type {\n",
       "        vertical-align: middle;\n",
       "    }\n",
       "\n",
       "    .dataframe tbody tr th {\n",
       "        vertical-align: top;\n",
       "    }\n",
       "\n",
       "    .dataframe thead th {\n",
       "        text-align: right;\n",
       "    }\n",
       "</style>\n",
       "<table border=\"1\" class=\"dataframe\">\n",
       "  <thead>\n",
       "    <tr style=\"text-align: right;\">\n",
       "      <th></th>\n",
       "      <th>geometry</th>\n",
       "      <th>pond_id</th>\n",
       "    </tr>\n",
       "  </thead>\n",
       "  <tbody>\n",
       "    <tr>\n",
       "      <th>0</th>\n",
       "      <td>POLYGON ((86.24542 22.98588, 86.24542 22.9859,...</td>\n",
       "      <td>526</td>\n",
       "    </tr>\n",
       "    <tr>\n",
       "      <th>0</th>\n",
       "      <td>POLYGON ((86.24094 22.97678, 86.24094 22.97679...</td>\n",
       "      <td>566</td>\n",
       "    </tr>\n",
       "    <tr>\n",
       "      <th>0</th>\n",
       "      <td>POLYGON ((86.22695 22.97532, 86.22695 22.97532...</td>\n",
       "      <td>679</td>\n",
       "    </tr>\n",
       "    <tr>\n",
       "      <th>0</th>\n",
       "      <td>POLYGON ((86.22416 22.97425, 86.22418 22.97426...</td>\n",
       "      <td>707</td>\n",
       "    </tr>\n",
       "    <tr>\n",
       "      <th>0</th>\n",
       "      <td>POLYGON ((86.21476 22.99128, 86.21476 22.99129...</td>\n",
       "      <td>792</td>\n",
       "    </tr>\n",
       "    <tr>\n",
       "      <th>...</th>\n",
       "      <td>...</td>\n",
       "      <td>...</td>\n",
       "    </tr>\n",
       "    <tr>\n",
       "      <th>0</th>\n",
       "      <td>POLYGON ((85.64871 22.87705, 85.64871 22.87706...</td>\n",
       "      <td>4288</td>\n",
       "    </tr>\n",
       "    <tr>\n",
       "      <th>0</th>\n",
       "      <td>POLYGON ((85.6491 22.87819, 85.64908 22.87822,...</td>\n",
       "      <td>4289</td>\n",
       "    </tr>\n",
       "    <tr>\n",
       "      <th>0</th>\n",
       "      <td>POLYGON ((85.64802 22.90025, 85.64802 22.90027...</td>\n",
       "      <td>4292</td>\n",
       "    </tr>\n",
       "    <tr>\n",
       "      <th>0</th>\n",
       "      <td>POLYGON ((85.64667 22.9014, 85.64667 22.90141,...</td>\n",
       "      <td>4293</td>\n",
       "    </tr>\n",
       "    <tr>\n",
       "      <th>0</th>\n",
       "      <td>POLYGON ((85.58236 22.86127, 85.58236 22.86128...</td>\n",
       "      <td>4537</td>\n",
       "    </tr>\n",
       "  </tbody>\n",
       "</table>\n",
       "<p>1820 rows × 2 columns</p>\n",
       "</div>"
      ],
      "text/plain": [
       "                                             geometry  pond_id\n",
       "0   POLYGON ((86.24542 22.98588, 86.24542 22.9859,...      526\n",
       "0   POLYGON ((86.24094 22.97678, 86.24094 22.97679...      566\n",
       "0   POLYGON ((86.22695 22.97532, 86.22695 22.97532...      679\n",
       "0   POLYGON ((86.22416 22.97425, 86.22418 22.97426...      707\n",
       "0   POLYGON ((86.21476 22.99128, 86.21476 22.99129...      792\n",
       "..                                                ...      ...\n",
       "0   POLYGON ((85.64871 22.87705, 85.64871 22.87706...     4288\n",
       "0   POLYGON ((85.6491 22.87819, 85.64908 22.87822,...     4289\n",
       "0   POLYGON ((85.64802 22.90025, 85.64802 22.90027...     4292\n",
       "0   POLYGON ((85.64667 22.9014, 85.64667 22.90141,...     4293\n",
       "0   POLYGON ((85.58236 22.86127, 85.58236 22.86128...     4537\n",
       "\n",
       "[1820 rows x 2 columns]"
      ]
     },
     "execution_count": 25,
     "metadata": {},
     "output_type": "execute_result"
    }
   ],
   "source": [
    "ponds_gdf"
   ]
  },
  {
   "cell_type": "code",
   "execution_count": 28,
   "metadata": {},
   "outputs": [],
   "source": [
    "swb_intersections_df = intersections_gdf.groupby(['UID'])['pond_id'].unique().reset_index()"
   ]
  },
  {
   "cell_type": "code",
   "execution_count": 30,
   "metadata": {},
   "outputs": [],
   "source": [
    "pond_intersections_df = intersections_gdf.groupby(['pond_id'])['UID'].unique().reset_index()"
   ]
  },
  {
   "cell_type": "code",
   "execution_count": null,
   "metadata": {},
   "outputs": [],
   "source": []
  }
 ],
 "metadata": {
  "kernelspec": {
   "display_name": ".ponds_n_wells",
   "language": "python",
   "name": "python3"
  },
  "language_info": {
   "codemirror_mode": {
    "name": "ipython",
    "version": 3
   },
   "file_extension": ".py",
   "mimetype": "text/x-python",
   "name": "python",
   "nbconvert_exporter": "python",
   "pygments_lexer": "ipython3",
   "version": "3.12.3"
  }
 },
 "nbformat": 4,
 "nbformat_minor": 2
}
